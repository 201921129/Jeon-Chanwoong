{
  "nbformat": 4,
  "nbformat_minor": 0,
  "metadata": {
    "colab": {
      "provenance": [],
      "authorship_tag": "ABX9TyMXh5KMcqA7MpFNs/bUK88a",
      "include_colab_link": true
    },
    "kernelspec": {
      "name": "python3",
      "display_name": "Python 3"
    },
    "language_info": {
      "name": "python"
    }
  },
  "cells": [
    {
      "cell_type": "markdown",
      "metadata": {
        "id": "view-in-github",
        "colab_type": "text"
      },
      "source": [
        "<a href=\"https://colab.research.google.com/github/201921129/Jeon-Chanwoong/blob/main/%EC%9D%B8%EA%B3%B5%EC%A7%80%EB%8A%A5_%EB%AC%B8%EC%A0%9C5%EB%B2%88.ipynb\" target=\"_parent\"><img src=\"https://colab.research.google.com/assets/colab-badge.svg\" alt=\"Open In Colab\"/></a>"
      ]
    },
    {
      "cell_type": "code",
      "execution_count": 7,
      "metadata": {
        "colab": {
          "base_uri": "https://localhost:8080/"
        },
        "id": "b1JX8_w5uTWX",
        "outputId": "70414274-832a-4595-a410-6b9db9846cbf"
      },
      "outputs": [
        {
          "output_type": "stream",
          "name": "stdout",
          "text": [
            "구매가능\n"
          ]
        }
      ],
      "source": [
        "x = 10000\n",
        "if (x):\n",
        "  print(\"구매가능\")\n",
        "else:\n",
        "  print(\"구매 불가능\")"
      ]
    }
  ]
}