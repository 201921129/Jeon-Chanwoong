{
  "nbformat": 4,
  "nbformat_minor": 0,
  "metadata": {
    "colab": {
      "provenance": []
    },
    "kernelspec": {
      "name": "python3",
      "display_name": "Python 3"
    },
    "language_info": {
      "name": "python"
    }
  },
  "cells": [
    {
      "cell_type": "markdown",
      "source": [
        "3월7일 기초,기본"
      ],
      "metadata": {
        "id": "iXmOZAhz0MMs"
      }
    },
    {
      "cell_type": "markdown",
      "source": [
        "1.변수"
      ],
      "metadata": {
        "id": "tgQT5e8Qz0-E"
      }
    },
    {
      "cell_type": "code",
      "execution_count": null,
      "metadata": {
        "id": "djFUDXdDzm76"
      },
      "outputs": [],
      "source": [
        "age = 24\n",
        "name = Chanwoong"
      ]
    },
    {
      "cell_type": "code",
      "source": [
        "print(age)\n",
        "print(name)"
      ],
      "metadata": {
        "id": "c4HgxPYbzrRt"
      },
      "execution_count": null,
      "outputs": []
    },
    {
      "cell_type": "markdown",
      "source": [
        "2.구구단"
      ],
      "metadata": {
        "id": "ZO7g5pGXzzQU"
      }
    },
    {
      "cell_type": "code",
      "source": [
        "x = 1\n",
        "y = 2\n",
        "print(x,'x', y, '=' , x*y)\n",
        "print(\"구구단 출력. \\n\")\n",
        "for x in range(1,10):\n",
        "    print(\"------- [\" + str(x) + \"단] -------\")\n",
        "    print(x,\"x\", y, \"=\" , x*y)\n",
        "for y in range(2,10):\n",
        "    print(x,\"x\", y, \"=\" , x*y)"
      ],
      "metadata": {
        "id": "eSJLTFgrzt2f"
      },
      "execution_count": null,
      "outputs": []
    },
    {
      "cell_type": "markdown",
      "source": [
        "3.리스트"
      ],
      "metadata": {
        "id": "VL6ku4-mz9a0"
      }
    },
    {
      "cell_type": "code",
      "source": [
        "exam = list"
      ],
      "metadata": {
        "id": "HzN2AJg0zt0M"
      },
      "execution_count": null,
      "outputs": []
    },
    {
      "cell_type": "code",
      "source": [
        "list=[60,80,95,69,90,81,80,69,79,66,70,90,96]"
      ],
      "metadata": {
        "id": "55sZqxcsz6s8"
      },
      "execution_count": null,
      "outputs": []
    },
    {
      "cell_type": "code",
      "source": [
        "A = 100 >= 90\n",
        "B = 0 \n",
        "C = 0 \n",
        "D = 0 \n",
        "F = 0"
      ],
      "metadata": {
        "id": "ssBIEUySz6rO"
      },
      "execution_count": null,
      "outputs": []
    },
    {
      "cell_type": "code",
      "source": [
        "A=>90\n",
        "90>B>=80\n",
        "80>C>=70\n",
        "70>D>=60\n",
        "60>F"
      ],
      "metadata": {
        "id": "rH2S3-6oz6om"
      },
      "execution_count": null,
      "outputs": []
    },
    {
      "cell_type": "markdown",
      "source": [
        "4."
      ],
      "metadata": {
        "id": "5BiNAa3o0GP8"
      }
    },
    {
      "cell_type": "code",
      "source": [
        "i = 1\n",
        "x = 0\n",
        "e = i+x\n",
        "for i in range (1,10):\n",
        "  print(i + x)\n",
        "  print (\"i의 값:\",i,\"합계:\",e)"
      ],
      "metadata": {
        "id": "QCWZASAGz6kU"
      },
      "execution_count": null,
      "outputs": []
    },
    {
      "cell_type": "markdown",
      "source": [
        "5."
      ],
      "metadata": {
        "id": "t_LVjb4x0R6t"
      }
    },
    {
      "cell_type": "code",
      "source": [
        "x = 10000\n",
        "if (x):\n",
        "  print(\"구매가능\")\n",
        "else:\n",
        "  print(\"구매 불가능\")"
      ],
      "metadata": {
        "id": "D5C34xwQ0RT2"
      },
      "execution_count": null,
      "outputs": []
    }
  ]
}