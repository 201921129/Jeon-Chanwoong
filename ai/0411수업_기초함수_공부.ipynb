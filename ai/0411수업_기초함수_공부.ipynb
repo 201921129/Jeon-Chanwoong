{
  "nbformat": 4,
  "nbformat_minor": 0,
  "metadata": {
    "colab": {
      "provenance": []
    },
    "kernelspec": {
      "name": "python3",
      "display_name": "Python 3"
    },
    "language_info": {
      "name": "python"
    }
  },
  "cells": [
    {
      "cell_type": "code",
      "execution_count": null,
      "metadata": {
        "colab": {
          "base_uri": "https://localhost:8080/"
        },
        "id": "EzxzNN4YstY1",
        "outputId": "2995cc68-6f6e-4c59-c587-56d26c3a918d"
      },
      "outputs": [
        {
          "output_type": "stream",
          "name": "stdout",
          "text": [
            "3\n",
            "6\n"
          ]
        }
      ],
      "source": [
        "def p(a,b):\n",
        "  c=a+b\n",
        "  print(c)\n",
        "p(1,2)  \n",
        "p(2,4)\n"
      ]
    },
    {
      "cell_type": "code",
      "source": [
        "def q(a,b):\n",
        "  c=a+b\n",
        "  return c\n",
        "\n",
        "d = q(1,2)\n",
        "\n",
        "print(d)"
      ],
      "metadata": {
        "colab": {
          "base_uri": "https://localhost:8080/"
        },
        "id": "YUWVb3feuitt",
        "outputId": "be19b972-8d0d-42f5-9813-1889c789479e"
      },
      "execution_count": null,
      "outputs": [
        {
          "output_type": "stream",
          "name": "stdout",
          "text": [
            "3\n"
          ]
        }
      ]
    },
    {
      "cell_type": "code",
      "source": [
        "def P(a,b):\n",
        "  c=a-b\n",
        "  return a,b,c\n",
        "u = P(1,2)\n",
        "\n",
        "print(u)"
      ],
      "metadata": {
        "colab": {
          "base_uri": "https://localhost:8080/"
        },
        "id": "QB5NVGXzvVb9",
        "outputId": "ba4e68e4-2b70-40fd-882f-0458236c16f9"
      },
      "execution_count": null,
      "outputs": [
        {
          "output_type": "stream",
          "name": "stdout",
          "text": [
            "(1, 2, -1)\n"
          ]
        }
      ]
    },
    {
      "cell_type": "code",
      "source": [
        "def p(a,b):\n",
        "  c=a+b\n",
        "  return a,b+7,c\n",
        "u=p(1,3)\n",
        "print(u)"
      ],
      "metadata": {
        "colab": {
          "base_uri": "https://localhost:8080/"
        },
        "id": "gvkYzQCkvVYb",
        "outputId": "d6e9d590-d197-46ff-c11f-c577a0576e83"
      },
      "execution_count": null,
      "outputs": [
        {
          "output_type": "stream",
          "name": "stdout",
          "text": [
            "(1, 10, 4)\n"
          ]
        }
      ]
    },
    {
      "cell_type": "code",
      "source": [
        "def t(a,b):\n",
        "  c=a+b\n",
        "  return c\n"
      ],
      "metadata": {
        "id": "5iXpFI53wVlL"
      },
      "execution_count": null,
      "outputs": []
    },
    {
      "cell_type": "code",
      "source": [
        "t(1,2)"
      ],
      "metadata": {
        "colab": {
          "base_uri": "https://localhost:8080/"
        },
        "id": "fiLVF7s3wf2T",
        "outputId": "9063d804-62c3-4a20-8b03-6fc1e7b23a9a"
      },
      "execution_count": null,
      "outputs": [
        {
          "output_type": "execute_result",
          "data": {
            "text/plain": [
              "3"
            ]
          },
          "metadata": {},
          "execution_count": 28
        }
      ]
    },
    {
      "cell_type": "code",
      "source": [
        "a"
      ],
      "metadata": {
        "colab": {
          "base_uri": "https://localhost:8080/"
        },
        "id": "LlYJmmM1woHL",
        "outputId": "3dea3bd4-3807-4d90-a0bc-598ee9b99f66"
      },
      "execution_count": null,
      "outputs": [
        {
          "output_type": "execute_result",
          "data": {
            "text/plain": [
              "10"
            ]
          },
          "metadata": {},
          "execution_count": 29
        }
      ]
    },
    {
      "cell_type": "code",
      "source": [
        "d"
      ],
      "metadata": {
        "colab": {
          "base_uri": "https://localhost:8080/"
        },
        "id": "mzxVHvdMw8-s",
        "outputId": "08c93aed-f07c-450d-a4bb-76144a395a62"
      },
      "execution_count": null,
      "outputs": [
        {
          "output_type": "execute_result",
          "data": {
            "text/plain": [
              "3"
            ]
          },
          "metadata": {},
          "execution_count": 31
        }
      ]
    },
    {
      "cell_type": "code",
      "source": [
        "c=5\n",
        "def t(a,b):\n",
        "  c=a+b\n",
        "  return c\n",
        "\n",
        "t(1,2)\n",
        "\n",
        "print(c)"
      ],
      "metadata": {
        "colab": {
          "base_uri": "https://localhost:8080/"
        },
        "id": "aDbk4tEWxKNC",
        "outputId": "cd0eb1bc-01a6-4f93-e627-5b74c0607d6b"
      },
      "execution_count": null,
      "outputs": [
        {
          "output_type": "stream",
          "name": "stdout",
          "text": [
            "5\n"
          ]
        }
      ]
    },
    {
      "cell_type": "code",
      "source": [
        "def P(a,b):\n",
        "  c=a+b\n",
        "  return a,b,c\n",
        "e,f,g = P(1,2)\n",
        "\n",
        "e"
      ],
      "metadata": {
        "colab": {
          "base_uri": "https://localhost:8080/"
        },
        "id": "w_WU-NmRxcxS",
        "outputId": "1413ad2c-ba73-4157-9ce9-d0cbb41db3e1"
      },
      "execution_count": null,
      "outputs": [
        {
          "output_type": "execute_result",
          "data": {
            "text/plain": [
              "1"
            ]
          },
          "metadata": {},
          "execution_count": 35
        }
      ]
    },
    {
      "cell_type": "code",
      "source": [
        "f"
      ],
      "metadata": {
        "colab": {
          "base_uri": "https://localhost:8080/"
        },
        "id": "F61PAbHixyBZ",
        "outputId": "869a0d99-fea0-44ca-b8f0-12566d97a810"
      },
      "execution_count": null,
      "outputs": [
        {
          "output_type": "execute_result",
          "data": {
            "text/plain": [
              "2"
            ]
          },
          "metadata": {},
          "execution_count": 36
        }
      ]
    },
    {
      "cell_type": "code",
      "source": [
        "g"
      ],
      "metadata": {
        "colab": {
          "base_uri": "https://localhost:8080/"
        },
        "id": "BKs4XbB1xx2h",
        "outputId": "a77f3f0a-c317-4e97-e9fd-331dac0e2059"
      },
      "execution_count": null,
      "outputs": [
        {
          "output_type": "execute_result",
          "data": {
            "text/plain": [
              "3"
            ]
          },
          "metadata": {},
          "execution_count": 37
        }
      ]
    },
    {
      "cell_type": "code",
      "source": [
        "def p(*args):\n",
        "  print(sum(args))\n",
        "p(1,2,3,4,5)\n"
      ],
      "metadata": {
        "colab": {
          "base_uri": "https://localhost:8080/"
        },
        "id": "AUMNy-ZWyS7R",
        "outputId": "7616b9aa-85df-47e6-dd45-e133399cf114"
      },
      "execution_count": null,
      "outputs": [
        {
          "output_type": "stream",
          "name": "stdout",
          "text": [
            "15\n"
          ]
        }
      ]
    },
    {
      "cell_type": "code",
      "source": [
        "def t(*args,b):\n",
        "  print(sum(args))\n",
        "  print(b)\n",
        "\n",
        "t(1,2,3,4,b=\"김\")"
      ],
      "metadata": {
        "colab": {
          "base_uri": "https://localhost:8080/"
        },
        "id": "x86R3-gYzKmI",
        "outputId": "94602dc6-a082-4faa-c3f4-019adb87fad1"
      },
      "execution_count": null,
      "outputs": [
        {
          "output_type": "stream",
          "name": "stdout",
          "text": [
            "10\n",
            "김\n"
          ]
        }
      ]
    },
    {
      "cell_type": "code",
      "source": [],
      "metadata": {
        "id": "uMyZUhwL0E0r"
      },
      "execution_count": null,
      "outputs": []
    },
    {
      "cell_type": "code",
      "source": [],
      "metadata": {
        "id": "-PezbUut0Evg"
      },
      "execution_count": null,
      "outputs": []
    }
  ]
}