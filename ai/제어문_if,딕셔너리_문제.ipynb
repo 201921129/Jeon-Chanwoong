{
  "nbformat": 4,
  "nbformat_minor": 0,
  "metadata": {
    "colab": {
      "provenance": []
    },
    "kernelspec": {
      "name": "python3",
      "display_name": "Python 3"
    },
    "language_info": {
      "name": "python"
    }
  },
  "cells": [
    {
      "cell_type": "markdown",
      "source": [
        "## 100m 달리기 아래는 달리기 성적 기록이다. 이때 9초 이상 11초 미만 합격, 11초 이상 13초 미만 재시험, 13초 초과 불합격을 프린트하시오\n",
        "\n",
        "* input을 활용해 만들기\n",
        "* 9, 10, 11, 12, 15, 25, 13, 12, 9.5, 10.6, 11.2, 9.5"
      ],
      "metadata": {
        "id": "RxLgKtG8TXc8"
      }
    },
    {
      "cell_type": "code",
      "source": [
        "a=float(input())\n",
        "\n",
        "if a>=9 and a<11:\n",
        "  print(\"합격\")\n",
        "elif a>=11 and a<13:\n",
        "  print(\"재시험\")\n",
        "elif a>13:\n",
        "  print(\"불합격\")\n",
        "else:\n",
        "  print(\"시간을 입력해주세요\")"
      ],
      "metadata": {
        "colab": {
          "base_uri": "https://localhost:8080/"
        },
        "id": "2ottV94qzaND",
        "outputId": "cb096196-bc4b-4aff-d7c0-2f84b8334f05"
      },
      "execution_count": null,
      "outputs": [
        {
          "output_type": "stream",
          "name": "stdout",
          "text": [
            "10\n",
            "합격\n"
          ]
        }
      ]
    },
    {
      "cell_type": "code",
      "source": [
        "a=[]\n",
        "for i in range(12):\n",
        "  b=float(input())\n",
        "  a.append(b)\n",
        "  if a[i]>=9 and a[i]<11:\n",
        "    print(\"합격\")\n",
        "  elif a[i]>=11 and a[i]<13:\n",
        "    print(\"재시험\")\n",
        "  elif a[i]>13:\n",
        "    print(\"불합격\")\n",
        "  else:\n",
        "    print(\"시간을 입력해주세요\")"
      ],
      "metadata": {
        "colab": {
          "base_uri": "https://localhost:8080/"
        },
        "id": "cEZSQ47bTs1p",
        "outputId": "c7ad8b5b-03bd-4508-98e5-307cea40c899"
      },
      "execution_count": null,
      "outputs": [
        {
          "output_type": "stream",
          "name": "stdout",
          "text": [
            "9\n",
            "합격\n",
            "10\n",
            "합격\n",
            "11\n",
            "재시험\n",
            "12\n",
            "재시험\n",
            "15\n",
            "불합격\n",
            "25\n",
            "불합격\n",
            "13\n",
            "잘못된 수\n",
            "12\n",
            "재시험\n",
            "9.5\n",
            "합격\n",
            "10.6\n",
            "합격\n",
            "11.2\n",
            "재시험\n",
            "9.5\n",
            "합격\n"
          ]
        }
      ]
    },
    {
      "cell_type": "code",
      "source": [
        "a=[9, 10, 11, 12, 15, 25, 13, 12, 9.5, 10.6, 11.2, 9.5]\n",
        "for i in a:\n",
        "  if i>=9 and i<11:\n",
        "    print(\"합격\")\n",
        "  elif i>=11 and i<13:\n",
        "    print(\"재시험\")\n",
        "  elif i>13:\n",
        "    print(\"불합격\")\n",
        "  else:\n",
        "    print(\"시간을 입력해주세요\")"
      ],
      "metadata": {
        "colab": {
          "base_uri": "https://localhost:8080/"
        },
        "id": "Nfi4dOdtUvo4",
        "outputId": "c18cbbee-38ce-49fd-bda2-8f5fe36081d4"
      },
      "execution_count": null,
      "outputs": [
        {
          "output_type": "stream",
          "name": "stdout",
          "text": [
            "합격\n",
            "합격\n",
            "재시험\n",
            "재시험\n",
            "불합격\n",
            "불합격\n",
            "잘못된 수\n",
            "재시험\n",
            "합격\n",
            "합격\n",
            "재시험\n",
            "합격\n"
          ]
        }
      ]
    },
    {
      "cell_type": "code",
      "source": [],
      "metadata": {
        "colab": {
          "base_uri": "https://localhost:8080/"
        },
        "id": "TLcMHxRAVCLI",
        "outputId": "92615dad-4635-4d37-8a2b-5565fe9fbdfb"
      },
      "execution_count": null,
      "outputs": [
        {
          "output_type": "stream",
          "name": "stdout",
          "text": [
            "합격\n",
            "합격\n",
            "재시험\n",
            "재시험\n",
            "불합격\n",
            "불합격\n",
            "시간을 입력해주세요\n",
            "재시험\n",
            "합격\n",
            "합격\n",
            "재시험\n",
            "합격\n"
          ]
        }
      ]
    },
    {
      "cell_type": "markdown",
      "source": [
        "##짜장면 : 10,000원, 짬뽕 : 11,000원, 탕수육 22,000원, 볶음밥 : 9,000원을 딕셔너리 형태로 저장하고 메뉴 이름과 금액을 각각 다른 리스트에 저장해 두 개의 리스트로 만들어서 프린트하시오(for 문 사용)"
      ],
      "metadata": {
        "id": "O4tOdgJoG_78"
      }
    },
    {
      "cell_type": "code",
      "source": [
        "food = {\"짜장면\" : \"10,000원\",\"짬뽕\" : \"11,000원\",\"탕수육\" : \"22,000원\",\"볶음밥\" : \"9,000\"}\n",
        "name = []\n",
        "list2 = []\n",
        "for i in food.values():\n",
        "  print(i)\n",
        "for i in food.keys():\n",
        "  print(i)\n"
      ],
      "metadata": {
        "colab": {
          "base_uri": "https://localhost:8080/"
        },
        "id": "Viyiy3qWHAPq",
        "outputId": "ee0c2341-9d5e-4198-a10b-1327448d7337"
      },
      "execution_count": null,
      "outputs": [
        {
          "output_type": "stream",
          "name": "stdout",
          "text": [
            "10,000원\n",
            "11,000원\n",
            "22,000원\n",
            "9,000\n",
            "짜장면\n",
            "짬뽕\n",
            "탕수육\n",
            "볶음밥\n"
          ]
        }
      ]
    },
    {
      "cell_type": "markdown",
      "source": [
        "##10명의 학생이 있다 각 학생들은 중국집에서 한가지 메뉴를 주문 할 수 있다. 이때 위에서 만든 메뉴판을 활용해 각각 학생들이 한가지 메뉴를 입력하게 하고 메뉴들의 총 합을 더해서 프린트하시오(리스트를 활용해 문제해결)"
      ],
      "metadata": {
        "id": "akKsCOiQHSBr"
      }
    },
    {
      "cell_type": "code",
      "source": [
        "total = []\n",
        "for i in range(1,11):\n",
        "  c=input((\"{}번째 학생의 주문 : \").format(i))\n",
        "  if c==\"짜장면\":\n",
        "    total.append(name[0])\n",
        "  elif c==\"짬뽕\":\n",
        "    total.append(name[1])\n",
        "  elif c==\"탕수육\":\n",
        "    total.append(name[2])\n",
        "  elif c==\"볶음밥\":\n",
        "    total.append(name[3])\n",
        "  else:\n",
        "    print(\"잘못된 값입니다.\")\n",
        "  \n"
      ],
      "metadata": {
        "colab": {
          "base_uri": "https://localhost:8080/",
          "height": 266
        },
        "id": "wFiQoBdBHJhE",
        "outputId": "22786e6f-2d66-4288-8416-24c9c8945fad"
      },
      "execution_count": null,
      "outputs": [
        {
          "name": "stdout",
          "output_type": "stream",
          "text": [
            "1번째 학생의 주문 : 짬뽕\n"
          ]
        },
        {
          "output_type": "error",
          "ename": "IndexError",
          "evalue": "ignored",
          "traceback": [
            "\u001b[0;31m---------------------------------------------------------------------------\u001b[0m",
            "\u001b[0;31mIndexError\u001b[0m                                Traceback (most recent call last)",
            "\u001b[0;32m<ipython-input-36-7fa5e861d91e>\u001b[0m in \u001b[0;36m<cell line: 2>\u001b[0;34m()\u001b[0m\n\u001b[1;32m      5\u001b[0m     \u001b[0mtotal\u001b[0m\u001b[0;34m.\u001b[0m\u001b[0mappend\u001b[0m\u001b[0;34m(\u001b[0m\u001b[0mname\u001b[0m\u001b[0;34m[\u001b[0m\u001b[0;36m0\u001b[0m\u001b[0;34m]\u001b[0m\u001b[0;34m)\u001b[0m\u001b[0;34m\u001b[0m\u001b[0;34m\u001b[0m\u001b[0m\n\u001b[1;32m      6\u001b[0m   \u001b[0;32melif\u001b[0m \u001b[0mc\u001b[0m\u001b[0;34m==\u001b[0m\u001b[0;34m\"짬뽕\"\u001b[0m\u001b[0;34m:\u001b[0m\u001b[0;34m\u001b[0m\u001b[0;34m\u001b[0m\u001b[0m\n\u001b[0;32m----> 7\u001b[0;31m     \u001b[0mtotal\u001b[0m\u001b[0;34m.\u001b[0m\u001b[0mappend\u001b[0m\u001b[0;34m(\u001b[0m\u001b[0mname\u001b[0m\u001b[0;34m[\u001b[0m\u001b[0;36m1\u001b[0m\u001b[0;34m]\u001b[0m\u001b[0;34m)\u001b[0m\u001b[0;34m\u001b[0m\u001b[0;34m\u001b[0m\u001b[0m\n\u001b[0m\u001b[1;32m      8\u001b[0m   \u001b[0;32melif\u001b[0m \u001b[0mc\u001b[0m\u001b[0;34m==\u001b[0m\u001b[0;34m\"탕수육\"\u001b[0m\u001b[0;34m:\u001b[0m\u001b[0;34m\u001b[0m\u001b[0;34m\u001b[0m\u001b[0m\n\u001b[1;32m      9\u001b[0m     \u001b[0mtotal\u001b[0m\u001b[0;34m.\u001b[0m\u001b[0mappend\u001b[0m\u001b[0;34m(\u001b[0m\u001b[0mname\u001b[0m\u001b[0;34m[\u001b[0m\u001b[0;36m2\u001b[0m\u001b[0;34m]\u001b[0m\u001b[0;34m)\u001b[0m\u001b[0;34m\u001b[0m\u001b[0;34m\u001b[0m\u001b[0m\n",
            "\u001b[0;31mIndexError\u001b[0m: list index out of range"
          ]
        }
      ]
    },
    {
      "cell_type": "markdown",
      "source": [],
      "metadata": {
        "id": "Kb4_fRwIKx6t"
      }
    },
    {
      "cell_type": "markdown",
      "source": [
        "##10명의 학생이 있다 각 학생들은 중국집에서 한가지 메뉴를 주문 할 수 있다. 이때 위에서 만든 메뉴판을 활용해 각각 학생들이 한가지 메뉴를 입력하게 하고 메뉴들의 총 합을 더해서 프린트하시오(딕셔러니를 활용해 문제 해결)"
      ],
      "metadata": {
        "id": "25RjLzj4K563"
      }
    },
    {
      "cell_type": "code",
      "source": [],
      "metadata": {
        "id": "4vS6dz0xIWyC"
      },
      "execution_count": null,
      "outputs": []
    },
    {
      "cell_type": "markdown",
      "source": [
        "##while문을 사용해 1부터 10까지 프린트 하시오\n",
        "\n",
        "\n",
        "*   i+=1 이 의미는 i에 +1을 해서 이것을 다시 i에 저장해준다는 뜻\n"
      ],
      "metadata": {
        "id": "BZ1PDMyXLomD"
      }
    },
    {
      "cell_type": "code",
      "source": [],
      "metadata": {
        "colab": {
          "base_uri": "https://localhost:8080/"
        },
        "id": "D6DuipeVKF6C",
        "outputId": "6f9fb832-7755-4a6b-c9c2-6508eba645a1"
      },
      "execution_count": null,
      "outputs": [
        {
          "output_type": "stream",
          "name": "stdout",
          "text": [
            "1\n",
            "2\n",
            "3\n",
            "4\n",
            "5\n",
            "6\n",
            "7\n",
            "8\n",
            "9\n",
            "10\n"
          ]
        }
      ]
    },
    {
      "cell_type": "markdown",
      "source": [
        "##while문을 사용해 1부터 10까지 프린트 하시오 이때 i가 3의 배수이면 while문을 멈춰주세요"
      ],
      "metadata": {
        "id": "U-vJrMajNInA"
      }
    },
    {
      "cell_type": "code",
      "source": [],
      "metadata": {
        "colab": {
          "base_uri": "https://localhost:8080/"
        },
        "id": "Fnk5rg1pL0Vp",
        "outputId": "50113999-1839-40ce-eda0-87682f07ece5"
      },
      "execution_count": null,
      "outputs": [
        {
          "output_type": "stream",
          "name": "stdout",
          "text": [
            "1\n",
            "2\n"
          ]
        }
      ]
    },
    {
      "cell_type": "markdown",
      "source": [
        "##while문을 사용해 1부터 10까지 프린트 하시오 이때 i가 3의 배수가 아닌값만 프린트 하시오"
      ],
      "metadata": {
        "id": "TpLyTHKzNST_"
      }
    },
    {
      "cell_type": "code",
      "source": [],
      "metadata": {
        "colab": {
          "base_uri": "https://localhost:8080/"
        },
        "id": "KK4mhkBLM61r",
        "outputId": "d396d4a1-cb64-4579-b2c4-f74093ca4189"
      },
      "execution_count": null,
      "outputs": [
        {
          "output_type": "stream",
          "name": "stdout",
          "text": [
            "1\n",
            "2\n",
            "4\n",
            "5\n",
            "7\n",
            "8\n",
            "10\n"
          ]
        }
      ]
    },
    {
      "cell_type": "markdown",
      "source": [
        "##리스트에 라면, 3000, 생수, 2500, 과자,1500, 삼각김밥, 1000을 저장하고 리스트에서 메뉴명과 금액을 각각 따로 빼서 menu, money의 이름을 가지는 리스트로 각각 만드시오"
      ],
      "metadata": {
        "id": "vkrbGOjPNzrf"
      }
    },
    {
      "cell_type": "code",
      "source": [],
      "metadata": {
        "id": "RYOk1EplOOg1",
        "colab": {
          "base_uri": "https://localhost:8080/"
        },
        "outputId": "c8ab12ad-85ec-4996-b5e1-57ee1abe5162"
      },
      "execution_count": null,
      "outputs": [
        {
          "output_type": "stream",
          "name": "stdout",
          "text": [
            "['라면', '생수', '과자', '삼각김밥']\n",
            "[3000, 2500, 1500, 1000]\n"
          ]
        }
      ]
    },
    {
      "cell_type": "markdown",
      "source": [
        "##while, for, if문을 활용해 아래와 같은 결과가 나오도록 만드시오"
      ],
      "metadata": {
        "id": "ks9TfJz_SgSA"
      }
    },
    {
      "cell_type": "code",
      "source": [],
      "metadata": {
        "colab": {
          "base_uri": "https://localhost:8080/"
        },
        "id": "Ghmwx4hdOtS4",
        "outputId": "ab816393-93b2-4e35-82e6-02f403ceb5f6"
      },
      "execution_count": null,
      "outputs": [
        {
          "output_type": "stream",
          "name": "stdout",
          "text": [
            "라면: 3000원\n",
            "생수: 2500원\n",
            "과자: 1500원\n",
            "삼각김밥: 1000원\n",
            "구매하고 싶은 품목을 선택하세요 : 라면\n",
            "라면의 가격은 3000원 입니다.\n",
            "**************************************************\n",
            "라면: 3000원\n",
            "생수: 2500원\n",
            "과자: 1500원\n",
            "삼각김밥: 1000원\n",
            "구매하고 싶은 품목을 선택하세요 : 삼각김밥\n",
            "삼각김밥의 가격은 1000원 입니다.\n",
            "**************************************************\n",
            "라면: 3000원\n",
            "생수: 2500원\n",
            "과자: 1500원\n",
            "삼각김밥: 1000원\n",
            "구매하고 싶은 품목을 선택하세요 : 과자\n",
            "과자의 가격은 1500원 입니다.\n",
            "**************************************************\n",
            "라면: 3000원\n",
            "생수: 2500원\n",
            "과자: 1500원\n",
            "삼각김밥: 1000원\n",
            "구매하고 싶은 품목을 선택하세요 : 생수\n",
            "생수의 가격은 2500원 입니다.\n",
            "**************************************************\n",
            "라면: 3000원\n",
            "생수: 2500원\n",
            "과자: 1500원\n",
            "삼각김밥: 1000원\n",
            "구매하고 싶은 품목을 선택하세요 : done\n",
            "총 금액은 8000원 입니다.\n"
          ]
        }
      ]
    },
    {
      "cell_type": "code",
      "source": [
        "food = [\"라면\", 3000,\"생수\",2500,\"과자\" ,1500,\"삼각김밥\",1000]\n",
        "manu=[]\n",
        "money=[]\n",
        "j=0\n",
        "for i in food:\n",
        "  if (j % 2 ==0):\n",
        "    manu.append(i)\n",
        "  else:\n",
        "    money.append(i)\n",
        "  j+=1\n",
        "print(manu)\n",
        "print(money)"
      ],
      "metadata": {
        "id": "uVp9qVECTNOP",
        "colab": {
          "base_uri": "https://localhost:8080/"
        },
        "outputId": "8de6af80-dc11-4691-fb68-2e6ec794fe98"
      },
      "execution_count": null,
      "outputs": [
        {
          "output_type": "stream",
          "name": "stdout",
          "text": [
            "['라면', '생수', '과자', '삼각김밥']\n",
            "[3000, 2500, 1500, 1000]\n"
          ]
        }
      ]
    },
    {
      "cell_type": "code",
      "source": [
        "sum =0\n",
        "while True:\n",
        "  for i,j in zip(manu,money):\n",
        "    print(f\"{i}:{j}원\")\n",
        "  A=input(\"구매하고 싶은 품목을 선택하세요:\")\n",
        "  if A==\"done\":\n",
        "    break\n",
        "  print(f\"{A}의 가격은 {money[manu.index(A)]}원입니다.\")\n",
        "  print(\"**************************************************\")\n",
        "  sum += money[manu.index(A)]\n",
        "print(f\"총금액은 {sum}원 입니다.\")"
      ],
      "metadata": {
        "colab": {
          "base_uri": "https://localhost:8080/"
        },
        "id": "TfAeQPqo9uPW",
        "outputId": "078b04cb-e29a-40e4-f9c3-eaa15ddc90dd"
      },
      "execution_count": null,
      "outputs": [
        {
          "output_type": "stream",
          "name": "stdout",
          "text": [
            "라면:3000원\n",
            "생수:2500원\n",
            "과자:1500원\n",
            "삼각김밥:1000원\n",
            "구매하고 싶은 품목을 선택하세요:라면\n",
            "라면의 가격은 3000원입니다.\n",
            "**************************************************\n",
            "라면:3000원\n",
            "생수:2500원\n",
            "과자:1500원\n",
            "삼각김밥:1000원\n",
            "구매하고 싶은 품목을 선택하세요:삼각김밥\n",
            "삼각김밥의 가격은 1000원입니다.\n",
            "**************************************************\n",
            "라면:3000원\n",
            "생수:2500원\n",
            "과자:1500원\n",
            "삼각김밥:1000원\n",
            "구매하고 싶은 품목을 선택하세요:done\n",
            "총금액은 4000원 입니다.\n"
          ]
        }
      ]
    }
  ]
}