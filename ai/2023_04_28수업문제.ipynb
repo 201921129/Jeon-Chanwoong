{
  "nbformat": 4,
  "nbformat_minor": 0,
  "metadata": {
    "colab": {
      "provenance": []
    },
    "kernelspec": {
      "name": "python3",
      "display_name": "Python 3"
    },
    "language_info": {
      "name": "python"
    }
  },
  "cells": [
    {
      "cell_type": "markdown",
      "source": [
        "##eqtt,frs2,gee3,gh41,fb3g 의 키 값을 아래와 같이 나타내시오. (4줄로 작성)\n",
        "['키값은 : eqtt 입니다.',\n",
        " '키값은 : frs2 입니다.',\n",
        " '키값은 : gee3 입니다.',\n",
        " '키값은 : gh41 입니다.',\n",
        " '키값은 : fb3g 입니다.']"
      ],
      "metadata": {
        "id": "d5XLvNZ8orjh"
      }
    },
    {
      "cell_type": "code",
      "source": [],
      "metadata": {
        "colab": {
          "base_uri": "https://localhost:8080/"
        },
        "id": "wedf1trqn5MJ",
        "outputId": "f3866b3c-405e-4229-d045-d00e76a5a520"
      },
      "execution_count": null,
      "outputs": [
        {
          "output_type": "execute_result",
          "data": {
            "text/plain": [
              "['키값은 : eqtt 입니다.',\n",
              " '키값은 : frs2 입니다.',\n",
              " '키값은 : gee3 입니다.',\n",
              " '키값은 : gh41 입니다.',\n",
              " '키값은 : fb3g 입니다.']"
            ]
          },
          "metadata": {},
          "execution_count": 10
        }
      ]
    },
    {
      "cell_type": "code",
      "source": [
        "key = [\"eqtt\",\"frs2\",\"gee3\",\"gh41\",\"fb3g\"]\n",
        "for i in key:\n",
        "  print((\"'키값은 : {}입니다.',\").format(i))"
      ],
      "metadata": {
        "colab": {
          "base_uri": "https://localhost:8080/"
        },
        "id": "D-YlWhyuYfU-",
        "outputId": "cc7c2a11-073b-4d76-bf3e-833c203d63f6"
      },
      "execution_count": null,
      "outputs": [
        {
          "output_type": "stream",
          "name": "stdout",
          "text": [
            "'키값은 : eqtt입니다.',\n",
            "'키값은 : frs2입니다.',\n",
            "'키값은 : gee3입니다.',\n",
            "'키값은 : gh41입니다.',\n",
            "'키값은 : fb3g입니다.',\n"
          ]
        }
      ]
    },
    {
      "cell_type": "code",
      "source": [
        "key = [\"eqtt\",\"frs2\",\"gee3\",\"gh41\",\"fb3g\"]\n",
        "print((\"'키값은 : {}입니다.',\").format(key))\n",
        "  "
      ],
      "metadata": {
        "colab": {
          "base_uri": "https://localhost:8080/"
        },
        "id": "5hzjdsWHZm9d",
        "outputId": "f2e9eeba-efa6-400f-873a-d76b54e8166a"
      },
      "execution_count": null,
      "outputs": [
        {
          "output_type": "stream",
          "name": "stdout",
          "text": [
            "'키값은 : ['eqtt', 'frs2', 'gee3', 'gh41', 'fb3g']입니다.',\n"
          ]
        }
      ]
    },
    {
      "cell_type": "code",
      "source": [
        "print(key)\n"
      ],
      "metadata": {
        "colab": {
          "base_uri": "https://localhost:8080/"
        },
        "id": "7-pb_MgJcgny",
        "outputId": "dab3bd51-0374-4219-8d46-a4ba541f10c3"
      },
      "execution_count": null,
      "outputs": [
        {
          "output_type": "stream",
          "name": "stdout",
          "text": [
            "['eqtt', 'frs2', 'gee3', 'gh41', 'fb3g']\n"
          ]
        }
      ]
    },
    {
      "cell_type": "markdown",
      "source": [
        "##아래와 같은 결과를 만들어내시오(for문과 while문을 활용해서) 9줄 이하"
      ],
      "metadata": {
        "id": "_JlB3e3UtXQV"
      }
    },
    {
      "cell_type": "code",
      "source": [],
      "metadata": {
        "colab": {
          "base_uri": "https://localhost:8080/"
        },
        "id": "GvViAYHbsGI-",
        "outputId": "2f1be8b2-d348-4c82-a6b1-c5bfe7be7b11"
      },
      "execution_count": null,
      "outputs": [
        {
          "output_type": "stream",
          "name": "stdout",
          "text": [
            "----1번째----\n",
            "1번째 시도\n",
            "2번째 시도\n",
            "3번째 시도\n",
            "4번째 시도\n",
            "5번째 시도\n",
            "----2번째----\n",
            "1번째 시도\n",
            "2번째 시도\n",
            "3번째 시도\n",
            "4번째 시도\n",
            "5번째 시도\n",
            "----3번째----\n",
            "1번째 시도\n",
            "2번째 시도\n",
            "3번째 시도\n",
            "4번째 시도\n",
            "5번째 시도\n",
            "----4번째----\n",
            "1번째 시도\n",
            "2번째 시도\n",
            "3번째 시도\n",
            "4번째 시도\n",
            "5번째 시도\n",
            "----5번째----\n",
            "1번째 시도\n",
            "2번째 시도\n",
            "3번째 시도\n",
            "4번째 시도\n",
            "5번째 시도\n",
            "----6번째----\n",
            "1번째 시도\n",
            "2번째 시도\n",
            "3번째 시도\n",
            "4번째 시도\n",
            "5번째 시도\n",
            "----7번째----\n",
            "1번째 시도\n",
            "2번째 시도\n",
            "3번째 시도\n",
            "4번째 시도\n",
            "5번째 시도\n"
          ]
        }
      ]
    },
    {
      "cell_type": "code",
      "source": [
        "a=[1,2,3,4,5,6,7]\n",
        "i = 0\n",
        "while i<10:\n",
        "  for i in a:\n",
        "    print((\"----{}번째----\").format(i))\n",
        "    for j in range(1,6):\n",
        "      print((\"{}번째 시도\").format(j))\n",
        "  if i == 7:\n",
        "    break"
      ],
      "metadata": {
        "id": "tROc61iGoEPw",
        "colab": {
          "base_uri": "https://localhost:8080/"
        },
        "outputId": "df28ef7a-34cf-45a4-cd3d-60174a114f23"
      },
      "execution_count": null,
      "outputs": [
        {
          "output_type": "stream",
          "name": "stdout",
          "text": [
            "----1번째----\n",
            "1번째 시도\n",
            "2번째 시도\n",
            "3번째 시도\n",
            "4번째 시도\n",
            "5번째 시도\n",
            "----2번째----\n",
            "1번째 시도\n",
            "2번째 시도\n",
            "3번째 시도\n",
            "4번째 시도\n",
            "5번째 시도\n",
            "----3번째----\n",
            "1번째 시도\n",
            "2번째 시도\n",
            "3번째 시도\n",
            "4번째 시도\n",
            "5번째 시도\n",
            "----4번째----\n",
            "1번째 시도\n",
            "2번째 시도\n",
            "3번째 시도\n",
            "4번째 시도\n",
            "5번째 시도\n",
            "----5번째----\n",
            "1번째 시도\n",
            "2번째 시도\n",
            "3번째 시도\n",
            "4번째 시도\n",
            "5번째 시도\n",
            "----6번째----\n",
            "1번째 시도\n",
            "2번째 시도\n",
            "3번째 시도\n",
            "4번째 시도\n",
            "5번째 시도\n",
            "----7번째----\n",
            "1번째 시도\n",
            "2번째 시도\n",
            "3번째 시도\n",
            "4번째 시도\n",
            "5번째 시도\n"
          ]
        }
      ]
    }
  ]
}