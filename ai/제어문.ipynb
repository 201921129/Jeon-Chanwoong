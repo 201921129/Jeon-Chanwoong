{
  "nbformat": 4,
  "nbformat_minor": 0,
  "metadata": {
    "colab": {
      "provenance": []
    },
    "kernelspec": {
      "name": "python3",
      "display_name": "Python 3"
    },
    "language_info": {
      "name": "python"
    }
  },
  "cells": [
    {
      "cell_type": "code",
      "execution_count": null,
      "metadata": {
        "colab": {
          "base_uri": "https://localhost:8080/"
        },
        "id": "SQWus1oBpGwQ",
        "outputId": "7d2d75bc-490c-4d07-8774-3e9d2fb9dfdd"
      },
      "outputs": [
        {
          "output_type": "stream",
          "name": "stdout",
          "text": [
            "메로나 2000원\n",
            "쌍쌍바 1000원\n",
            "수박바 1500원\n"
          ]
        }
      ],
      "source": [
        "a={\"메로나\" : \"2000원\", \"쌍쌍바\" : \"1000원\", \"수박바\" : \"1500원\"}\n",
        "for i, j in a.items():\n",
        "  print(i,j)"
      ]
    },
    {
      "cell_type": "code",
      "source": [
        "for i in a.values():\n",
        "  print(i)"
      ],
      "metadata": {
        "colab": {
          "base_uri": "https://localhost:8080/"
        },
        "id": "AaRi4u1Wpm8h",
        "outputId": "26ecc027-4fb5-4a2d-ed49-b54c20c59134"
      },
      "execution_count": null,
      "outputs": [
        {
          "output_type": "stream",
          "name": "stdout",
          "text": [
            "2000원\n",
            "1000원\n",
            "1500원\n"
          ]
        }
      ]
    },
    {
      "cell_type": "code",
      "source": [
        "for i in a.keys():\n",
        "  print(i)"
      ],
      "metadata": {
        "colab": {
          "base_uri": "https://localhost:8080/"
        },
        "id": "1lcppR_lpzQy",
        "outputId": "22eb9bc0-a2cc-4d0d-d3a5-834519a2fd96"
      },
      "execution_count": null,
      "outputs": [
        {
          "output_type": "stream",
          "name": "stdout",
          "text": [
            "메로나\n",
            "쌍쌍바\n",
            "수박바\n"
          ]
        }
      ]
    },
    {
      "cell_type": "code",
      "source": [
        "print(a.keys())"
      ],
      "metadata": {
        "colab": {
          "base_uri": "https://localhost:8080/"
        },
        "id": "PHfXHkzqp7jq",
        "outputId": "a03f7186-6135-4cab-897f-7272c3842ed0"
      },
      "execution_count": null,
      "outputs": [
        {
          "output_type": "stream",
          "name": "stdout",
          "text": [
            "dict_keys(['메로나', '쌍쌍바', '수박바'])\n"
          ]
        }
      ]
    },
    {
      "cell_type": "markdown",
      "source": [
        "for : 횟수를 반복한다(정해준 구간)\n",
        "2>1 TRUE\n",
        "5<4 Fulse\n",
        "\n",
        "if 조건:\n",
        "  특정명령 1\n",
        "\n",
        "else:\n",
        "  특정명령 2\n"
      ],
      "metadata": {
        "id": "Zv0HaEudqxRP"
      }
    },
    {
      "cell_type": "code",
      "source": [
        "a=50\n",
        "b=20\n",
        "if b>9:\n",
        "  print(a)\n",
        "else:\n",
        "  print(\"X\")"
      ],
      "metadata": {
        "colab": {
          "base_uri": "https://localhost:8080/"
        },
        "id": "9XbWIAlmrHGM",
        "outputId": "4a069d59-15a3-493d-ccfa-3229dde26a57"
      },
      "execution_count": null,
      "outputs": [
        {
          "output_type": "stream",
          "name": "stdout",
          "text": [
            "50\n"
          ]
        }
      ]
    },
    {
      "cell_type": "code",
      "source": [
        "a=10\n",
        "b=20\n",
        "if a>=10:\n",
        "  print(\"1등급\")\n",
        "elif a>=8 or b<10:\n",
        "  print(\"2등급\")\n",
        "else:\n",
        "  print(\"error\")"
      ],
      "metadata": {
        "colab": {
          "base_uri": "https://localhost:8080/"
        },
        "id": "-VOTQZ3OsLyK",
        "outputId": "80e1d61d-5e13-4c60-9a24-7d57d6c5c42b"
      },
      "execution_count": null,
      "outputs": [
        {
          "output_type": "stream",
          "name": "stdout",
          "text": [
            "1등급\n"
          ]
        }
      ]
    },
    {
      "cell_type": "code",
      "source": [
        "a=input()\n",
        "if \"k\" in a:\n",
        "  print(\"포함\")\n",
        "else:\n",
        "  print(\"미포함\")"
      ],
      "metadata": {
        "colab": {
          "base_uri": "https://localhost:8080/"
        },
        "id": "AZmMlnO65291",
        "outputId": "5f1ad02f-99a2-4f07-de7e-c7e13c831f70"
      },
      "execution_count": null,
      "outputs": [
        {
          "output_type": "stream",
          "name": "stdout",
          "text": [
            "korea\n",
            "포함\n"
          ]
        }
      ]
    },
    {
      "cell_type": "code",
      "source": [],
      "metadata": {
        "id": "asis0lkw6H4M"
      },
      "execution_count": null,
      "outputs": []
    },
    {
      "cell_type": "markdown",
      "source": [
        "for : 특정범위 내에서 반복\n",
        "if : 특정조건을 만족하면 실행\n",
        "while : 특정조건을 만족하면 반복"
      ],
      "metadata": {
        "id": "Lj-sgCqU6Ios"
      }
    },
    {
      "cell_type": "code",
      "source": [
        "while True:\n",
        "  print(\"/|\")"
      ],
      "metadata": {
        "id": "C1oqhWjZ6mww"
      },
      "execution_count": null,
      "outputs": []
    },
    {
      "cell_type": "code",
      "source": [
        "i=0\n",
        "while i<100:\n",
        "  i=i+2\n",
        "  print(i)"
      ],
      "metadata": {
        "colab": {
          "base_uri": "https://localhost:8080/"
        },
        "id": "M_7i5tsH62Dg",
        "outputId": "b8da3057-ebab-4b20-fa4b-1e653e18e27e"
      },
      "execution_count": null,
      "outputs": [
        {
          "output_type": "stream",
          "name": "stdout",
          "text": [
            "2\n",
            "4\n",
            "6\n",
            "8\n",
            "10\n",
            "12\n",
            "14\n",
            "16\n",
            "18\n",
            "20\n",
            "22\n",
            "24\n",
            "26\n",
            "28\n",
            "30\n",
            "32\n",
            "34\n",
            "36\n",
            "38\n",
            "40\n",
            "42\n",
            "44\n",
            "46\n",
            "48\n",
            "50\n",
            "52\n",
            "54\n",
            "56\n",
            "58\n",
            "60\n",
            "62\n",
            "64\n",
            "66\n",
            "68\n",
            "70\n",
            "72\n",
            "74\n",
            "76\n",
            "78\n",
            "80\n",
            "82\n",
            "84\n",
            "86\n",
            "88\n",
            "90\n",
            "92\n",
            "94\n",
            "96\n",
            "98\n",
            "100\n"
          ]
        }
      ]
    },
    {
      "cell_type": "markdown",
      "source": [
        "if \n",
        "break는 조건 반복문을 종료시킨다\n",
        "if continue는 해당 조건을 생략하고 이어간다."
      ],
      "metadata": {
        "id": "E_XzFTDx8IFC"
      }
    },
    {
      "cell_type": "code",
      "source": [
        "i=0\n",
        "while i <100:\n",
        "  i=i+2\n",
        "  if i%3==0:\n",
        "    break\n",
        "  print(i)"
      ],
      "metadata": {
        "colab": {
          "base_uri": "https://localhost:8080/"
        },
        "id": "0EsxAUg17dHB",
        "outputId": "7d63c12f-a5e0-445b-b808-244826274485"
      },
      "execution_count": null,
      "outputs": [
        {
          "output_type": "stream",
          "name": "stdout",
          "text": [
            "2\n",
            "4\n"
          ]
        }
      ]
    },
    {
      "cell_type": "code",
      "source": [
        "i=0\n",
        "while i <100:\n",
        "  i=i+2\n",
        "  if i%3==0:\n",
        "    continue\n",
        "  print(i)"
      ],
      "metadata": {
        "colab": {
          "base_uri": "https://localhost:8080/"
        },
        "id": "1J6I6Sxp7qeQ",
        "outputId": "e1fef96c-f751-4776-af2c-2c50f90f9553"
      },
      "execution_count": null,
      "outputs": [
        {
          "output_type": "stream",
          "name": "stdout",
          "text": [
            "2\n",
            "4\n",
            "8\n",
            "10\n",
            "14\n",
            "16\n",
            "20\n",
            "22\n",
            "26\n",
            "28\n",
            "32\n",
            "34\n",
            "38\n",
            "40\n",
            "44\n",
            "46\n",
            "50\n",
            "52\n",
            "56\n",
            "58\n",
            "62\n",
            "64\n",
            "68\n",
            "70\n",
            "74\n",
            "76\n",
            "80\n",
            "82\n",
            "86\n",
            "88\n",
            "92\n",
            "94\n",
            "98\n",
            "100\n"
          ]
        }
      ]
    }
  ]
}