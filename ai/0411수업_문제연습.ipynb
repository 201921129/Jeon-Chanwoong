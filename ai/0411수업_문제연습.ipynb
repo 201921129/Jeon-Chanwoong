{
  "nbformat": 4,
  "nbformat_minor": 0,
  "metadata": {
    "colab": {
      "provenance": []
    },
    "kernelspec": {
      "name": "python3",
      "display_name": "Python 3"
    },
    "language_info": {
      "name": "python"
    }
  },
  "cells": [
    {
      "cell_type": "markdown",
      "source": [
        "##a라는 변수에 숫자 20을 할당하고, b라는 변수에 숫자 30을 할당해 a와 b의 합을 프린트하시오"
      ],
      "metadata": {
        "id": "UH86qe8ROgA2"
      }
    },
    {
      "cell_type": "code",
      "source": [],
      "metadata": {
        "colab": {
          "base_uri": "https://localhost:8080/"
        },
        "id": "5iutb_zrOQB0",
        "outputId": "fcb031e0-630e-4e2d-dd5d-88cb335f41ae"
      },
      "execution_count": null,
      "outputs": [
        {
          "output_type": "stream",
          "name": "stdout",
          "text": [
            "50\n"
          ]
        }
      ]
    },
    {
      "cell_type": "code",
      "source": [
        "def num(a,b):\n",
        "  c=a+b\n",
        "  return c\n",
        "num(20,30)"
      ],
      "metadata": {
        "colab": {
          "base_uri": "https://localhost:8080/"
        },
        "id": "tHxeucmyWdvY",
        "outputId": "85556b68-b53d-46ad-9114-a8eb8aa944a8"
      },
      "execution_count": null,
      "outputs": [
        {
          "output_type": "execute_result",
          "data": {
            "text/plain": [
              "50"
            ]
          },
          "metadata": {},
          "execution_count": 4
        }
      ]
    },
    {
      "cell_type": "markdown",
      "source": [
        "##아래의 문장을 변수에 저장하고 저장된 변수에서 인공지능이라는 단어만 프린트하시오\n",
        "\n",
        "*   안녕하세요 인공지능 수업에 오신것을 환영합니다. "
      ],
      "metadata": {
        "id": "QHKJX5ghOfjr"
      }
    },
    {
      "cell_type": "code",
      "source": [
        "a=\"안녕하세요 인공지능 수업에 오신것을 환영합니다.\"\n",
        "a[6:10]"
      ],
      "metadata": {
        "id": "G00R5VXpOuJs",
        "colab": {
          "base_uri": "https://localhost:8080/",
          "height": 35
        },
        "outputId": "ac8ac211-637f-468a-b6f8-dc5a7b1669ba"
      },
      "execution_count": null,
      "outputs": [
        {
          "output_type": "execute_result",
          "data": {
            "text/plain": [
              "'인공지능'"
            ],
            "application/vnd.google.colaboratory.intrinsic+json": {
              "type": "string"
            }
          },
          "metadata": {},
          "execution_count": 5
        }
      ]
    },
    {
      "cell_type": "code",
      "source": [],
      "metadata": {
        "colab": {
          "base_uri": "https://localhost:8080/",
          "height": 35
        },
        "id": "LE7FlhLkOP_X",
        "outputId": "34aae0b1-f1e9-4bb7-b5f4-8f6c750c25b0"
      },
      "execution_count": null,
      "outputs": [
        {
          "output_type": "execute_result",
          "data": {
            "text/plain": [
              "'인공지능'"
            ],
            "application/vnd.google.colaboratory.intrinsic+json": {
              "type": "string"
            }
          },
          "metadata": {},
          "execution_count": 16
        }
      ]
    },
    {
      "cell_type": "markdown",
      "source": [
        "##특정 문자를 입력받아 변수로 저장하는 방법으로 자신의 이름을 입력후 저장하고, 아래의 문장과 같이 format을 사용해 프린트 하시오"
      ],
      "metadata": {
        "id": "YyOPq28gPFa2"
      }
    },
    {
      "cell_type": "code",
      "source": [],
      "metadata": {
        "colab": {
          "base_uri": "https://localhost:8080/"
        },
        "id": "vR-ZST6kOP8p",
        "outputId": "4eaa84ed-8ec3-4a5d-978e-1bf606479892"
      },
      "execution_count": null,
      "outputs": [
        {
          "output_type": "stream",
          "name": "stdout",
          "text": [
            "김창균\n",
            "안녕하세요 김창균님 인공지능 수업에 오신것을 환영합니다.\n"
          ]
        }
      ]
    },
    {
      "cell_type": "code",
      "source": [
        "a=input()\n",
        "print((\"안녕하세요 {}님 인공지능 수업에 오신것을 환영합니다.\").format(a))"
      ],
      "metadata": {
        "colab": {
          "base_uri": "https://localhost:8080/"
        },
        "id": "PDhIQWJfXYOH",
        "outputId": "0ec6562e-d53a-47a8-a982-8e7d90f3d56d"
      },
      "execution_count": null,
      "outputs": [
        {
          "output_type": "stream",
          "name": "stdout",
          "text": [
            "전찬웅\n",
            "안녕하세요 전찬웅님 인공지능 수업에 오신것을 환영합니다.\n"
          ]
        }
      ]
    },
    {
      "cell_type": "markdown",
      "source": [
        "#아래의 값들을 하나의 리스트에 저장하고, 리스트를 프린트하시오\n",
        "\n",
        "\n",
        "*   1,5,5,7,3,6,88,12,5,74,4,8,64,2,7,89,33,1,6,8,1,5,6,7\n"
      ],
      "metadata": {
        "id": "P4qBWf5nPxnk"
      }
    },
    {
      "cell_type": "code",
      "source": [],
      "metadata": {
        "colab": {
          "base_uri": "https://localhost:8080/"
        },
        "id": "xpNvlAPjOP5l",
        "outputId": "2daac6df-5860-4cac-b78a-15db899bb2be"
      },
      "execution_count": null,
      "outputs": [
        {
          "output_type": "stream",
          "name": "stdout",
          "text": [
            "[1, 5, 5, 7, 3, 6, 88, 12, 5, 74, 4, 8, 64, 2, 7, 89, 33, 1, 6, 8, 1, 5, 6, 7]\n"
          ]
        }
      ]
    },
    {
      "cell_type": "code",
      "source": [
        "a=[1,5,5,7,3,6,88,12,5,74,4,8,64,2,7,89,33,1,6,8,1,5,6,7]\n",
        "print(a)"
      ],
      "metadata": {
        "colab": {
          "base_uri": "https://localhost:8080/"
        },
        "id": "e08BAtnhXlXT",
        "outputId": "0035935a-3dad-4748-bf31-1a0f4071aa67"
      },
      "execution_count": null,
      "outputs": [
        {
          "output_type": "stream",
          "name": "stdout",
          "text": [
            "[1, 5, 5, 7, 3, 6, 88, 12, 5, 74, 4, 8, 64, 2, 7, 89, 33, 1, 6, 8, 1, 5, 6, 7]\n"
          ]
        }
      ]
    },
    {
      "cell_type": "markdown",
      "source": [
        "#위에서 저장된 리스트 값중 88에 해당하는 리스트의 위치 index를 도출하시오"
      ],
      "metadata": {
        "id": "XZKVY-RKQFXs"
      }
    },
    {
      "cell_type": "code",
      "source": [],
      "metadata": {
        "colab": {
          "base_uri": "https://localhost:8080/"
        },
        "id": "XATdVchKOP2z",
        "outputId": "8d2bcef0-66ae-48ac-ad2f-b6bd91cb29c4"
      },
      "execution_count": null,
      "outputs": [
        {
          "output_type": "execute_result",
          "data": {
            "text/plain": [
              "6"
            ]
          },
          "metadata": {},
          "execution_count": 19
        }
      ]
    },
    {
      "cell_type": "code",
      "source": [
        "a.index(88)"
      ],
      "metadata": {
        "colab": {
          "base_uri": "https://localhost:8080/"
        },
        "id": "mqhpwczZXqlF",
        "outputId": "6b260d77-6f5e-4bc9-c1bf-8a92ee7f12b5"
      },
      "execution_count": null,
      "outputs": [
        {
          "output_type": "execute_result",
          "data": {
            "text/plain": [
              "6"
            ]
          },
          "metadata": {},
          "execution_count": 9
        }
      ]
    },
    {
      "cell_type": "markdown",
      "source": [
        "##주어진 이름 Jone-30, Park-30, Kim-20, Lee-10, Oh-32, Kang-25을 name이란 리스트를 만들고 Lee를 가진 사람의 성만 따로 도출하시오"
      ],
      "metadata": {
        "id": "IeCbj6RdS7XI"
      }
    },
    {
      "cell_type": "code",
      "source": [],
      "metadata": {
        "colab": {
          "base_uri": "https://localhost:8080/",
          "height": 35
        },
        "id": "i39jh9MTS9es",
        "outputId": "bcca344a-485c-4966-bf05-5f48053cadea"
      },
      "execution_count": null,
      "outputs": [
        {
          "output_type": "execute_result",
          "data": {
            "text/plain": [
              "'Lee'"
            ],
            "application/vnd.google.colaboratory.intrinsic+json": {
              "type": "string"
            }
          },
          "metadata": {},
          "execution_count": 30
        }
      ]
    },
    {
      "cell_type": "code",
      "source": [
        "name = [\"Jone-30\", \"Park-30\", \"Kim-20\", \"Lee-10\", \"Oh-32\", \"Kang-25\"]\n",
        "name[3][:name[3].index(\"-\")]"
      ],
      "metadata": {
        "colab": {
          "base_uri": "https://localhost:8080/",
          "height": 35
        },
        "id": "bwXdRkvRXs8G",
        "outputId": "9753e48b-9c58-48a4-e085-05e787a478fa"
      },
      "execution_count": null,
      "outputs": [
        {
          "output_type": "execute_result",
          "data": {
            "text/plain": [
              "'Lee'"
            ],
            "application/vnd.google.colaboratory.intrinsic+json": {
              "type": "string"
            }
          },
          "metadata": {},
          "execution_count": 23
        }
      ]
    },
    {
      "cell_type": "code",
      "source": [
        "name = [\"Jone-30\", \"Park-30\", \"Kim-20\", \"Lee-10\", \"Oh-32\", \"Kang-25\"]\n",
        "name[3][0:3]"
      ],
      "metadata": {
        "colab": {
          "base_uri": "https://localhost:8080/",
          "height": 35
        },
        "id": "Z7TgG8woYe0b",
        "outputId": "8f7167dd-87b1-4b02-c02c-eee2723f0ec2"
      },
      "execution_count": null,
      "outputs": [
        {
          "output_type": "execute_result",
          "data": {
            "text/plain": [
              "'Lee'"
            ],
            "application/vnd.google.colaboratory.intrinsic+json": {
              "type": "string"
            }
          },
          "metadata": {},
          "execution_count": 24
        }
      ]
    },
    {
      "cell_type": "markdown",
      "source": [
        "##주어진 이름 Jone-30, Park-30, Kim-20, Lee-10, Oh-32, Kang-25 을 name이란 리스트를 만들고 리스트의 형태를 Jone/30 ....  와 같이 모두 변경하고 프린트하시오"
      ],
      "metadata": {
        "id": "cnrO1vz2R4K9"
      }
    },
    {
      "cell_type": "code",
      "source": [],
      "metadata": {
        "colab": {
          "base_uri": "https://localhost:8080/"
        },
        "id": "Y_9vKC0ER35o",
        "outputId": "c048a476-74ce-467a-b5cb-a046315de646"
      },
      "execution_count": null,
      "outputs": [
        {
          "output_type": "stream",
          "name": "stdout",
          "text": [
            "['Jone/30', 'Park/30', 'Kim/20', 'Lee/10', 'Oh/32', 'Kang/25']\n"
          ]
        }
      ]
    },
    {
      "cell_type": "code",
      "source": [
        "name = [\"Jone-30\", \"Park-30\", \"Kim-20\", \"Lee-10\", \"Oh-32\", \"Kang-25\"]\n",
        "rename = []\n",
        "rename.append(name[0].replace(\"-\",\"/\"))\n",
        "rename.append(name[1].replace(\"-\",\"/\"))\n",
        "rename.append(name[2].replace(\"-\",\"/\"))\n",
        "rename.append(name[3].replace(\"-\",\"/\"))\n",
        "rename.append(name[4].replace(\"-\",\"/\"))\n",
        "rename.append(name[5].replace(\"-\",\"/\"))\n",
        "print(rename)"
      ],
      "metadata": {
        "colab": {
          "base_uri": "https://localhost:8080/"
        },
        "id": "HjUBI3wCYl69",
        "outputId": "04942fa4-263a-423f-8f9b-57b40498b0a9"
      },
      "execution_count": null,
      "outputs": [
        {
          "output_type": "stream",
          "name": "stdout",
          "text": [
            "['Jone/30', 'Park/30', 'Kim/20', 'Lee/10', 'Oh/32', 'Kang/25']\n"
          ]
        }
      ]
    },
    {
      "cell_type": "code",
      "source": [
        "name.replace(\"-\",\"/\")"
      ],
      "metadata": {
        "id": "41f0HZFTyt04"
      },
      "execution_count": null,
      "outputs": []
    },
    {
      "cell_type": "code",
      "source": [
        "name = [\"Jone-30\", \"Park-30\", \"Kim-20\", \"Lee-10\", \"Oh-32\", \"Kang-25\"]\n",
        "rename = []\n",
        "for i in name:\n",
        "  rename.append(i.replace(\"-\",\"/\"))\n",
        "print(rename)"
      ],
      "metadata": {
        "colab": {
          "base_uri": "https://localhost:8080/"
        },
        "id": "4sEfinXhy78b",
        "outputId": "48a59701-6f6c-4d48-a53f-7b174daf574b"
      },
      "execution_count": null,
      "outputs": [
        {
          "output_type": "stream",
          "name": "stdout",
          "text": [
            "['Jone/30', 'Park/30', 'Kim/20', 'Lee/10', 'Oh/32', 'Kang/25']\n"
          ]
        }
      ]
    },
    {
      "cell_type": "markdown",
      "source": [
        "##하나의 폴더에 아래와 같은 형식을 가진 파일들이 있다. 이때 jpg와 png파일만 뽑아 리스트로 프린트하시오 만약에 jpg와 png파일이 아닐 경우 아래와 같이 프린트하시오\n",
        "\n",
        "\n",
        "\n",
        "*   dog.png, dog2.png, dog3.jpg, test.pdf, file.py, homework.pptx, jpg.pptx, png2.pptx\n",
        "\n",
        "\n",
        "*   test.pdf은 jpg, png파일에 포함되지 않습니다.\n",
        "\n"
      ],
      "metadata": {
        "id": "PPBQ6SaJTUP1"
      }
    },
    {
      "cell_type": "code",
      "source": [],
      "metadata": {
        "colab": {
          "base_uri": "https://localhost:8080/"
        },
        "id": "epbMUjevT2Vf",
        "outputId": "b112dc65-e4bf-43f0-f3e2-58ba7d49c236"
      },
      "execution_count": null,
      "outputs": [
        {
          "output_type": "stream",
          "name": "stdout",
          "text": [
            "test.pdf은 jpg, png파일에 포함되지 않습니다.\n",
            "file.py은 jpg, png파일에 포함되지 않습니다.\n",
            "homework.pptx은 jpg, png파일에 포함되지 않습니다.\n",
            "jpg.pptx은 jpg, png파일에 포함되지 않습니다.\n",
            "png2.pptx은 jpg, png파일에 포함되지 않습니다.\n"
          ]
        }
      ]
    },
    {
      "cell_type": "code",
      "source": [
        "file = [\"dog.png\", \"dog2.png\", \"dog3.jpg\", \"test.pdf\",\"file.py\", \"homework.pptx\", \"jpg.pptx\", \"png2.pptx\"]\n"
      ],
      "metadata": {
        "id": "9IPlZSJ8ZTmc"
      },
      "execution_count": null,
      "outputs": []
    },
    {
      "cell_type": "markdown",
      "source": [
        "##위의 리스트에서 50보다 큰 숫자들만 뽑아 하나의 리스트에 저장하고 프린트하고 50보다 작은 숫자들은 또다른 리스트에 저장하시오"
      ],
      "metadata": {
        "id": "MVblcgXhQYI4"
      }
    },
    {
      "cell_type": "code",
      "source": [],
      "metadata": {
        "id": "gh9s8H0iOPwd"
      },
      "execution_count": null,
      "outputs": []
    },
    {
      "cell_type": "code",
      "source": [],
      "metadata": {
        "colab": {
          "base_uri": "https://localhost:8080/"
        },
        "id": "oMujfbi-RWey",
        "outputId": "aab83608-0e32-4d2a-f9a3-b216ad3ec206"
      },
      "execution_count": null,
      "outputs": [
        {
          "output_type": "stream",
          "name": "stdout",
          "text": [
            "[88, 74, 64, 89]\n",
            "[1, 5, 5, 7, 3, 6, 12, 5, 4, 8, 2, 7, 33, 1, 6, 8, 1, 5, 6, 7]\n"
          ]
        }
      ]
    },
    {
      "cell_type": "markdown",
      "source": [
        "##하나의 빈 리스트를 만들고 아래의 값을 넣었을때 양수이면 빈 리스트에 추가하고 음수이면 이를 무시해 양수만 저장되어 있는 리스트의 값들을 모두 더해 프린트해라(while, if, continue사용)\n",
        "\n",
        "\n",
        "*   20,50,51,6,74,2,67,-5,-10,-50,-56,-19,55"
      ],
      "metadata": {
        "id": "jeYQ5NsWRkcm"
      }
    },
    {
      "cell_type": "code",
      "source": [],
      "metadata": {
        "colab": {
          "base_uri": "https://localhost:8080/"
        },
        "id": "vtUGoFxuRajG",
        "outputId": "6212286f-1785-4fbb-d36b-2b9b41ba8e5f"
      },
      "execution_count": null,
      "outputs": [
        {
          "output_type": "stream",
          "name": "stdout",
          "text": [
            "입력한 숫자의 모든 합은 : 325\n"
          ]
        }
      ]
    },
    {
      "cell_type": "markdown",
      "source": [
        "##3개의 값을 넣었을때 값들을 모두 제곱해 더한 결과를 도출하는 함수를 만드시오  "
      ],
      "metadata": {
        "id": "4Hb8q-jDXA18"
      }
    },
    {
      "cell_type": "code",
      "source": [],
      "metadata": {
        "id": "37Rtaw23XUQ1"
      },
      "execution_count": null,
      "outputs": []
    },
    {
      "cell_type": "code",
      "source": [],
      "metadata": {
        "colab": {
          "base_uri": "https://localhost:8080/"
        },
        "id": "OVWpgUUCXcRn",
        "outputId": "5b39f241-a836-4b6a-cdea-e4fef3ec797e"
      },
      "execution_count": null,
      "outputs": [
        {
          "output_type": "stream",
          "name": "stdout",
          "text": [
            "14\n"
          ]
        }
      ]
    },
    {
      "cell_type": "code",
      "source": [],
      "metadata": {
        "colab": {
          "base_uri": "https://localhost:8080/"
        },
        "id": "_Ex1mhEElWfo",
        "outputId": "5846a331-400d-47f9-e4bb-dc0b32d257c5"
      },
      "execution_count": null,
      "outputs": [
        {
          "output_type": "stream",
          "name": "stdout",
          "text": [
            "어서오세요 AI 식당입니다.\n",
            "햄버거: 15000원\n",
            "피자: 22000원\n",
            "음료: 2000원\n",
            "감자튀김: 5000원\n",
            "구매하고싶은 품목을 선택해주세요 (or done to exit): 감자튀김\n",
            "------------------------------------------------------------\n",
            "구매하실 수량을 입력해주세요 : 4\n",
            "현재 총 구매 금액은 20000원 입니다.\n",
            "------------------------------------------------------------\n",
            "구매하고싶은 품목을 선택해주세요 (or done to exit):\n",
            "------------------------------------------------------------\n",
            "햄버거: 15000원\n",
            "피자: 22000원\n",
            "음료: 2000원\n",
            "감자튀김: 5000원\n",
            "구매하고싶은 품목을 선택해주세요 (or done to exit): 음료\n",
            "------------------------------------------------------------\n",
            "구매하실 수량을 입력해주세요 : 5\n",
            "현재 총 구매 금액은 30000원 입니다.\n",
            "------------------------------------------------------------\n",
            "구매하고싶은 품목을 선택해주세요 (or done to exit):\n",
            "------------------------------------------------------------\n",
            "햄버거: 15000원\n",
            "피자: 22000원\n",
            "음료: 2000원\n",
            "감자튀김: 5000원\n",
            "구매하고싶은 품목을 선택해주세요 (or done to exit): done\n",
            "------------------------------------------------------------\n",
            "귀하의 총 구매금액은 :30000원 입니다.\n",
            "금액을 투입하세요 : 450000\n",
            "투입금액은 450000원 이고, 거스름돈은 420000원 입니다.\n",
            "감사합니다 안녕히 가세요\n"
          ]
        }
      ]
    },
    {
      "cell_type": "code",
      "source": [],
      "metadata": {
        "id": "rXYbsn-qqOCq"
      },
      "execution_count": null,
      "outputs": []
    },
    {
      "cell_type": "markdown",
      "source": [
        "## 액정 파손 -10000, 카메라 문제 -50000, 터치불량 -10000 이라 할때 핸드폰 가격을 입력했을 때 조건에 따라 가격을 책정해주는 함수를 만드시오"
      ],
      "metadata": {
        "id": "SwHw68cYGIjn"
      }
    },
    {
      "cell_type": "code",
      "source": [],
      "metadata": {
        "id": "Syec69V6zOQj"
      },
      "execution_count": null,
      "outputs": []
    },
    {
      "cell_type": "markdown",
      "source": [
        "##위의 문제를 함수에 *args를 써서 액정파손, 카메라 문제, 터치불량에 대해 가격을 책정할 수 있게 만드시오"
      ],
      "metadata": {
        "id": "Q0cpJmS0JAMs"
      }
    },
    {
      "cell_type": "code",
      "source": [],
      "metadata": {
        "id": "FgKBkV1f0WeK"
      },
      "execution_count": null,
      "outputs": []
    },
    {
      "cell_type": "code",
      "source": [
        "phone(\"액정파손\",\"카메라 문제\", price=500000)"
      ],
      "metadata": {
        "colab": {
          "base_uri": "https://localhost:8080/"
        },
        "id": "6V5sVTAZQGZe",
        "outputId": "595cbd3f-077b-44f3-ee10-0b9227bf8205"
      },
      "execution_count": null,
      "outputs": [
        {
          "output_type": "execute_result",
          "data": {
            "text/plain": [
              "440000"
            ]
          },
          "metadata": {},
          "execution_count": 46
        }
      ]
    },
    {
      "cell_type": "code",
      "source": [],
      "metadata": {
        "id": "xBTz-xb_XrA2"
      },
      "execution_count": null,
      "outputs": []
    },
    {
      "cell_type": "code",
      "source": [],
      "metadata": {
        "id": "aCQ3YniCXq-k"
      },
      "execution_count": null,
      "outputs": []
    }
  ]
}