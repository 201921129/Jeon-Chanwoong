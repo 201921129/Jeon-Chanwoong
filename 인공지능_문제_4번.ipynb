{
  "nbformat": 4,
  "nbformat_minor": 0,
  "metadata": {
    "colab": {
      "provenance": [],
      "authorship_tag": "ABX9TyPVyq7o9YvcaKhEuwq0lp1U",
      "include_colab_link": true
    },
    "kernelspec": {
      "name": "python3",
      "display_name": "Python 3"
    },
    "language_info": {
      "name": "python"
    }
  },
  "cells": [
    {
      "cell_type": "markdown",
      "metadata": {
        "id": "view-in-github",
        "colab_type": "text"
      },
      "source": [
        "<a href=\"https://colab.research.google.com/github/201921129/Jeon-Chanwoong/blob/main/%EC%9D%B8%EA%B3%B5%EC%A7%80%EB%8A%A5_%EB%AC%B8%EC%A0%9C_4%EB%B2%88.ipynb\" target=\"_parent\"><img src=\"https://colab.research.google.com/assets/colab-badge.svg\" alt=\"Open In Colab\"/></a>"
      ]
    },
    {
      "cell_type": "code",
      "execution_count": 6,
      "metadata": {
        "colab": {
          "base_uri": "https://localhost:8080/"
        },
        "id": "HJp6Q4yfryAI",
        "outputId": "e3e12936-f28b-49e5-a14f-d893cd9e3a36"
      },
      "outputs": [
        {
          "output_type": "stream",
          "name": "stdout",
          "text": [
            "1\n",
            "i의 값: 1 합계: 1\n",
            "2\n",
            "i의 값: 2 합계: 1\n",
            "3\n",
            "i의 값: 3 합계: 1\n",
            "4\n",
            "i의 값: 4 합계: 1\n",
            "5\n",
            "i의 값: 5 합계: 1\n",
            "6\n",
            "i의 값: 6 합계: 1\n",
            "7\n",
            "i의 값: 7 합계: 1\n",
            "8\n",
            "i의 값: 8 합계: 1\n",
            "9\n",
            "i의 값: 9 합계: 1\n"
          ]
        }
      ],
      "source": [
        "i = 1\n",
        "x = 0\n",
        "e = i+x\n",
        "for i in range (1,10):\n",
        "  print(i + x)\n",
        "  print (\"i의 값:\",i,\"합계:\",e)\n"
      ]
    }
  ]
}